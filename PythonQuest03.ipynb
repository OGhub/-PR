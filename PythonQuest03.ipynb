{
  "nbformat": 4,
  "nbformat_minor": 0,
  "metadata": {
    "colab": {
      "provenance": [],
      "private_outputs": true,
      "include_colab_link": true
    },
    "kernelspec": {
      "name": "python3",
      "display_name": "Python 3"
    },
    "language_info": {
      "name": "python"
    }
  },
  "cells": [
    {
      "cell_type": "markdown",
      "metadata": {
        "id": "view-in-github",
        "colab_type": "text"
      },
      "source": [
        "<a href=\"https://colab.research.google.com/github/OGhub/-PR/blob/main/PythonQuest03.ipynb\" target=\"_parent\"><img src=\"https://colab.research.google.com/assets/colab-badge.svg\" alt=\"Open In Colab\"/></a>"
      ]
    },
    {
      "cell_type": "markdown",
      "source": [
        "# [파이썬] 퀘스트: 클로저를 활용한 문제해결하기\n",
        "\n",
        "난이도: ★★★★☆  \n",
        "장르: nonlocal, 클로저, 데코레이터 활용  \n",
        "\n",
        "---\n",
        "\n",
        "\n"
      ],
      "metadata": {
        "id": "sPRcyZsPorCm"
      }
    },
    {
      "cell_type": "markdown",
      "source": [
        "## 문제 1. 최댓값과 최솟값 찾기\n",
        "\n"
      ],
      "metadata": {
        "id": "Dh2vcnApr4VI"
      }
    },
    {
      "cell_type": "markdown",
      "source": [
        "조건:  \n",
        "* 주어진 리스트의 최댓값과 최솟값을 반환하는 클로저 함수를 완성해 주세요.\n",
        "    * 주어진 숫자 리스트 numbers에 대해 find_min_max 함수를 호출하면 find_min과 find_max 함수를 얻을 수 있습니다.\n",
        "    * find_min() 함수를 호출하면 최솟값을, find_max()함수를 호출하면 최댓값을 반환합니다.\n",
        "    * 클로저를 사용하여 min_value와 max_value 변수를 외부에 노출하지 않고도 최솟값과 최대값을 찾을 수 있습니다.\n",
        "    * find_min_max 함수가 호출된 이후에도 find_min과 find_max 함수를 통해 min_value와 max_value 변수에 접근할 수 있습니다.\n",
        "* 주석으로 구현 내용이 써있는 부분을 코드로 채워주세요.\n",
        "---\n",
        "입력:\n",
        "```python\n",
        "numbers = [10, 5, 8, 12, 3, 7]\n",
        "find_min, find_max = find_min_max(numbers)\n",
        "\n",
        "print(\"최솟값:\", find_min())  \n",
        "print(\"최댓값:\", find_max())  \n",
        "```\n",
        "---\n",
        "출력:\n",
        "```\n",
        "3\n",
        "12\n",
        "```\n"
      ],
      "metadata": {
        "id": "d-vXJztpvFD-"
      }
    },
    {
      "cell_type": "markdown",
      "source": [],
      "metadata": {
        "id": "270iIu_tkVgP"
      }
    },
    {
      "cell_type": "code",
      "source": [
        "def find_min_max(numbers):\n",
        "    # min_value와 max_value 변수를 초기화\n",
        "    # min_value는 양의 무한대(float('inf'))로 초기화하여 어떤 숫자보다도 큰 값으로 설정\n",
        "    min_value = float('inf')\n",
        "    # max_value는 음의 무한대(float('-inf'))로 초기화하여 어떤 숫자보다도 작은 값으로 설정\n",
        "    max_value = float('-inf')\n",
        "\n",
        "    def update_min_max(num):\n",
        "        # 외부함수의 변수인 min_value, max_value 참조\n",
        "        nonlocal min_value, max_value\n",
        "\n",
        "        # 만약 num 값이 min_value보다 작다면 min_value를 num 값으로 변경\n",
        "        if num < min_value:\n",
        "            min_value = num\n",
        "        # 만약 num 값이 max_value보다 크다면 max_value를 num 값으로 변경\n",
        "        if num > max_value:\n",
        "            max_value = num\n",
        "\n",
        "\n",
        "    # numbers 리스트의 모든 값을 순환하며 최댓값과 최솟값 업데이트\n",
        "    for num in numbers:\n",
        "        update_min_max(num)\n",
        "\n",
        "    # 최솟값을 반환하는 내부함수\n",
        "    def get_min():\n",
        "        return min_value\n",
        "\n",
        "    # 최댓값을 반환하는 내부함수\n",
        "    def get_max():\n",
        "        return max_value\n",
        "\n",
        "    # 외부함수는 내부함수(get_min()과 get_max())를 반환\n",
        "    return get_min, get_max\n"
      ],
      "metadata": {
        "id": "oF_uYyS2jjPj"
      },
      "execution_count": null,
      "outputs": []
    },
    {
      "cell_type": "code",
      "source": [
        "numbers = [10, 5, 8, 12, 3, 7]\n",
        "find_min, find_max = find_min_max(numbers)\n",
        "\n",
        "print(\"최솟값:\", find_min())  # 3\n",
        "print(\"최댓값:\", find_max())  # 12"
      ],
      "metadata": {
        "id": "fCd_fJBrobxi"
      },
      "execution_count": null,
      "outputs": []
    },
    {
      "cell_type": "markdown",
      "source": [
        "## 문제 2. 함수의 호출 횟수를 세는 데코레이터"
      ],
      "metadata": {
        "id": "d3XECsmXwES5"
      }
    },
    {
      "cell_type": "markdown",
      "source": [
        "지난 시간에 배운 데코레이터를 기억하시나요? 데코레이터도 내부함수를 반환하는 클로저를 활용한 문법입니다. 클로저를 활용하여 함수 호출 횟수를 출력하는 데코레이터를 만들어봅시다.\n",
        "\n",
        "조건:\n",
        "* 함수가 실행될 때 마다 함수 이름과 실행 횟수를 출력하는 데코레이터 `counter` 만들기  \n",
        "\n",
        "힌트:\n",
        "* 데코레이터의 내부 함수(클로저)는 실행횟수를 기억하기 위해 외부 함수의 변수를 참조 해야 합니다\n",
        "* 함수의 이름은 `함수이름.__name__`으로 접근할 수 있습니다.\n",
        "\n",
        "---\n",
        "입력:\n",
        "```python\n",
        "@counter\n",
        "def say_hello():\n",
        "    print(\"Hello Aiffel!\")\n",
        "\n",
        "for i in range(5):\n",
        "    say_hello()\n",
        "```\n",
        "---\n",
        "출력:\n",
        "```\n",
        "Hello Aiffel!\n",
        "say_hello 실행횟수: 1\n",
        "Hello Aiffel!\n",
        "say_hello 실행횟수: 2\n",
        "Hello Aiffel!\n",
        "say_hello 실행횟수: 3\n",
        "Hello Aiffel!\n",
        "say_hello 실행횟수: 4\n",
        "Hello Aiffel!\n",
        "say_hello 실행횟수: 5\n",
        "```"
      ],
      "metadata": {
        "id": "HTdH6DkVvJMF"
      }
    },
    {
      "cell_type": "code",
      "source": [
        "def counter(fn):\n",
        "  count = 0   # 실행 횟수를 저장하는 변수\n",
        "\n",
        "  def deco1():\n",
        "    nonlocal count    # 외부 함수 count 변수를 참조\n",
        "    count += 1    # 실행 횟수 증가\n",
        "    fn()\n",
        "    print(fn.__name__,' 실행횟수 : ', count)    #함수 이름과 실행 횟수 출력\n",
        "  return deco1   # 수정된 함수를 반환\n",
        "\n",
        "\n",
        "@counter\n",
        "def say_hello():\n",
        "    print(\"Hello Aiffel!\")\n",
        "\n",
        "for i in range(5):\n",
        "    say_hello()"
      ],
      "metadata": {
        "id": "QYdFtnf-MOCg"
      },
      "execution_count": null,
      "outputs": []
    },
    {
      "cell_type": "markdown",
      "source": [
        "**회고**\n",
        "\n",
        "```\n",
        "이동수 - 클로저 및 데코레이터의 코드 작동 원리에 대해 조금은 이해했다고 생각했지만,\n",
        "직접 코드를 작성하는 과정과 하나씩 짚어보며 이해하려니 부족한 부분이 느껴졌다.\n",
        "다양한 코드를 접해보고 머릿속에서 생각한걸 할 수 있을 정도로 근접하기에 노력해야겠다.\n",
        "혼자서 하는 부분보다 여럿의 사람과 함께 생각을 공유하면서 하면 놓치는 부분도 캐치 할 수 있다는 점도 느껴졌다.\n",
        "\n",
        "권오근 - 역시 어렵다. 하지만 클로저의 구조에 대해 이제 좀 이해가 가는 것 같다.\n",
        "혼자 했으면 못했을 것 같다. 동수님의 하드캐리로 퀘스트를 클리어 할 수 있었다.\n",
        "2번 문제에서 좀 더 완벽한 코드가 있을 수 있겠지만 이게 최선이었다. 다른 사람들은 어떻게 했는지 궁금하다.\n",
        "\n",
        "```"
      ],
      "metadata": {
        "id": "EHTGs6c-xyvQ"
      }
    },
    {
      "cell_type": "markdown",
      "source": [],
      "metadata": {
        "id": "osfZrBSQ2Eis"
      }
    }
  ]
}